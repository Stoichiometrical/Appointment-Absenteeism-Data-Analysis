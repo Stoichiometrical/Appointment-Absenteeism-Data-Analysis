{
 "cells": [
  {
   "cell_type": "markdown",
   "metadata": {},
   "source": [
    "# Project: Investigate a Dataset - No show appointments"
   ]
  },
  {
   "cell_type": "markdown",
   "metadata": {
    "pycharm": {
     "name": "#%% md\n"
    }
   },
   "source": [
    "## Introduction\n",
    "### Dataset Description\n",
    "This dataset collects information from 100k medical appointments in Brazil and is focused on the question of whether or not patients show up for their appointment. A number of characteristics about the patient are included in each row.\n",
    "\n",
    "‘ScheduledDay’ tells us on what day the patient set up their appointment. ‘Neighborhood’ indicates the location of the hospital. ‘Scholarship’ indicates whether or not the patient is enrolled in Brasilian welfare program Bolsa Família. The encoding of the last column: it says ‘No’ if the patient showed up to their appointment, and ‘Yes’ if they did not show up. The other attributes are denoted with either a 1 or 0.1 if the attribute is true and 0 its its false eg No Scholarship 1 means the person is on scholarship and 0 means they are not on scholarship\n",
    "\n",
    "### Question(s) for Analysis\n",
    "#### What are the main factors influencing whether or not a person will show up for an appointment?\n",
    "Firstly we will analyse the relationship between sickness and probability of person to show up? Then analyse How else does the attributes independent of a person's condition affect thier probability to show up From this we will be able to see the most important factors that influence whether or not a person is likely to show up and any recommendation to increase patient turn up rate\n",
    "\n",
    "#### Dependent variable : No show\n",
    "Independent variables : neighbourhood , message recieved , Gender , ScheduledDay ,AppointmentDay Age Neighbourhood Scholarship Hipertension, Diabetes ,Alcoholism, Handcap ,SMS_received\n",
    "### Goal : Trying to find the impact of each of these factors on influencing a person's turn up for an appointment"
   ]
  },
  {
   "cell_type": "markdown",
   "metadata": {
    "collapsed": true,
    "pycharm": {
     "name": "#%% md\n"
    }
   },
   "source": [
    "# Importing the relevant libraries"
   ]
  },
  {
   "cell_type": "code",
   "execution_count": null,
   "metadata": {
    "pycharm": {
     "name": "#%%\n"
    }
   },
   "outputs": [],
   "source": [
    "import pandas as pd\n",
    "%matplotlib inline\n",
    "from matplotlib import pyplot as plt"
   ]
  },
  {
   "cell_type": "markdown",
   "metadata": {
    "pycharm": {
     "name": "#%% md\n"
    }
   },
   "source": [
    "## Data Wrangling"
   ]
  },
  {
   "cell_type": "code",
   "execution_count": null,
   "metadata": {
    "pycharm": {
     "name": "#%%\n"
    }
   },
   "outputs": [],
   "source": [
    "#Importing our data setm and having a general overview of its structure\n",
    "df = pd.read_csv(\"data.csv\")\n",
    "df.head(15)"
   ]
  },
  {
   "cell_type": "markdown",
   "metadata": {
    "pycharm": {
     "name": "#%% md\n"
    }
   },
   "source": [
    "### Lets look at the shape of our data"
   ]
  },
  {
   "cell_type": "code",
   "execution_count": null,
   "metadata": {
    "pycharm": {
     "name": "#%%\n"
    }
   },
   "outputs": [],
   "source": [
    "df.shape"
   ]
  },
  {
   "cell_type": "code",
   "execution_count": null,
   "metadata": {
    "pycharm": {
     "name": "#%%\n"
    }
   },
   "outputs": [],
   "source": [
    "#Whats the general structure of our attributes\n",
    "df.info();\n",
    "#From below we see that our data has no missing values and every attribute has the correct data type"
   ]
  },
  {
   "cell_type": "code",
   "execution_count": null,
   "metadata": {
    "pycharm": {
     "name": "#%%\n"
    }
   },
   "outputs": [],
   "source": [
    "#Lets also look at the summary statistics of any info that might be relevant\n",
    "df.describe()\n",
    "#We see that its not very useful so we might need to exclude it from our analysis"
   ]
  },
  {
   "cell_type": "markdown",
   "metadata": {
    "pycharm": {
     "name": "#%% md\n"
    }
   },
   "source": [
    "## Data Wrangling\n",
    "### Now that we have a general inituition of what our data looks like , lets try to see if there is need for cleaning"
   ]
  },
  {
   "cell_type": "code",
   "execution_count": null,
   "metadata": {
    "pycharm": {
     "name": "#%%\n"
    }
   },
   "outputs": [],
   "source": [
    "#Lets check for duplicates and drop them if they exists\n",
    "df.drop_duplicates(inplace=True)"
   ]
  },
  {
   "cell_type": "code",
   "execution_count": null,
   "metadata": {
    "pycharm": {
     "name": "#%%\n"
    }
   },
   "outputs": [],
   "source": [
    "#Get an overview of all the columns and to see if we might need to drop irrelevant ones\n",
    "print(df.columns.tolist())"
   ]
  },
  {
   "cell_type": "markdown",
   "metadata": {
    "pycharm": {
     "name": "#%% md\n"
    }
   },
   "source": [
    "##### Since we are looking for factors influencing  a person's likelihood of showing up,we wont need patient id,appointment id.We might need to look furthur at 'ScheduledDay', 'AppointmentDay' and Neighbourhood\n"
   ]
  },
  {
   "cell_type": "code",
   "execution_count": null,
   "metadata": {
    "pycharm": {
     "name": "#%%\n"
    }
   },
   "outputs": [],
   "source": [
    "df.drop(['PatientId','AppointmentID'],axis=1,inplace=True)\n",
    "df.head()"
   ]
  },
  {
   "cell_type": "markdown",
   "metadata": {
    "pycharm": {
     "name": "#%% md\n"
    }
   },
   "source": [
    "#### From the above we also see that appointment day and schedule might not be  relevant since they differ by minutes or hours and might be cumbersome so we drop it"
   ]
  },
  {
   "cell_type": "code",
   "execution_count": null,
   "metadata": {
    "pycharm": {
     "name": "#%%\n"
    }
   },
   "outputs": [],
   "source": [
    "##Lets also check neighbourhoods\n",
    "df['Neighbourhood'].value_counts()\n",
    "#From the below we have 81 neighborhoods, it would be very cumbersome to analyse all 81 variable since we dont have\n",
    "#any other demographic info to describe the neighborhoods"
   ]
  },
  {
   "cell_type": "code",
   "execution_count": null,
   "metadata": {
    "pycharm": {
     "name": "#%%\n"
    }
   },
   "outputs": [],
   "source": [
    "#Lets drop the irrelevant columns\n",
    "df.drop(['ScheduledDay', 'AppointmentDay','Neighbourhood'],axis=1,inplace=True)"
   ]
  },
  {
   "cell_type": "code",
   "execution_count": null,
   "metadata": {
    "pycharm": {
     "name": "#%%\n"
    }
   },
   "outputs": [],
   "source": [
    "df.head(20)"
   ]
  },
  {
   "cell_type": "markdown",
   "metadata": {
    "pycharm": {
     "name": "#%% md\n"
    }
   },
   "source": [
    "##### By looking at the above, we see that the No-show column is not homogenous to the other columns.Its labelling is also very confusing so we can rename it to Showedup,since its the trait we are most interested in.We can rename our No to 1(True) since it means the person showed up and Yes to  0(False) ,since means the person didnt show up"
   ]
  },
  {
   "cell_type": "code",
   "execution_count": null,
   "metadata": {
    "pycharm": {
     "name": "#%%\n"
    }
   },
   "outputs": [],
   "source": [
    "df['No-show'].replace({'No':1,'Yes':0},inplace=True)"
   ]
  },
  {
   "cell_type": "code",
   "execution_count": null,
   "metadata": {
    "pycharm": {
     "name": "#%%\n"
    }
   },
   "outputs": [],
   "source": [
    "df.rename(columns={\"No-show\":\"Showedup\"},inplace=True)\n",
    "df.head()"
   ]
  },
  {
   "cell_type": "markdown",
   "metadata": {
    "pycharm": {
     "name": "#%% md\n"
    }
   },
   "source": [
    "##### We also want to analyse two aspects of our data ie sicknesses and other factors.We want to see the impact of sickness on people who show up and also the influence of other factors so lets make two datasets, one for analysing sicknesses and the other"
   ]
  },
  {
   "cell_type": "code",
   "execution_count": null,
   "metadata": {
    "pycharm": {
     "name": "#%%\n"
    }
   },
   "outputs": [],
   "source": [
    "sickDf = df[['Hipertension','Diabetes','Alcoholism','Handcap']]\n",
    "sickDf.head()"
   ]
  },
  {
   "cell_type": "code",
   "execution_count": null,
   "metadata": {
    "pycharm": {
     "name": "#%%\n"
    }
   },
   "outputs": [],
   "source": [
    "otherDf = df[['Gender','Scholarship','Age','SMS_received']]\n",
    "otherDf.head()"
   ]
  },
  {
   "cell_type": "code",
   "execution_count": null,
   "metadata": {
    "pycharm": {
     "name": "#%%\n"
    }
   },
   "outputs": [],
   "source": [
    "#We then create masks for rows with showed up and those who missed so that we can easily pick out our rows\n",
    "showedup = df.Showedup==1\n",
    "missed = df.Showedup ==0"
   ]
  },
  {
   "cell_type": "markdown",
   "metadata": {
    "pycharm": {
     "name": "#%% md\n"
    }
   },
   "source": [
    "# Exploratory Data Analysis"
   ]
  },
  {
   "cell_type": "markdown",
   "metadata": {
    "pycharm": {
     "name": "#%% md\n"
    }
   },
   "source": [
    "## Research question 1 : What is the relationship between sickness and probability of person to show up?The sicknesses are Hipertension,Alcoholism,Diabetes and Handicap.The dependent variable is ShowedUp"
   ]
  },
  {
   "cell_type": "code",
   "execution_count": null,
   "metadata": {
    "pycharm": {
     "name": "#%%\n"
    }
   },
   "outputs": [],
   "source": [
    "#Lets pull in the sickness data set\n",
    "sickDf.head(10)"
   ]
  },
  {
   "cell_type": "code",
   "execution_count": null,
   "metadata": {
    "pycharm": {
     "name": "#%%\n"
    }
   },
   "outputs": [],
   "source": [
    "#We might need to see the percentage of people who show up or not based on specified attribute so lets  create a funvtion\n",
    "#to help us do that\n",
    "#b is the total number of people with the attribute , a is the proportion who showed up\n",
    "def percentage(a,b):\n",
    "    percentage = a/b * 100\n",
    "    return percentage"
   ]
  },
  {
   "cell_type": "code",
   "execution_count": null,
   "metadata": {
    "pycharm": {
     "name": "#%%\n"
    }
   },
   "outputs": [],
   "source": [
    "#Before we analyse  the individual traits ,lets look attributes of combined traits since some people come with more than one sickness\n",
    "sickDf[showedup].value_counts().plot(kind=\"bar\",figsize=(15,8));\n",
    "plt.title(\"Dependence Among Sicknesses\")\n",
    "plt.ylabel(\"Total People\");"
   ]
  },
  {
   "cell_type": "markdown",
   "metadata": {
    "pycharm": {
     "name": "#%% md\n"
    }
   },
   "source": [
    "From the above we see that people with hipertension alone have the highest turn up rate.\n",
    "There are very few people who come with a combination of all sicknesses\n",
    "We also see that there seems to be many types(1,2,3,4) of Handicap, but what we are most interested in is whether or not a person is handcap , so 0 means they are not any number above shows that they are handicap and its different levels.So lets convert that"
   ]
  },
  {
   "cell_type": "code",
   "execution_count": null,
   "metadata": {
    "pycharm": {
     "name": "#%%\n"
    }
   },
   "outputs": [],
   "source": [
    "#Change any type of handicap to just 1 , to show that the person is handcap\n",
    "sickDf['Handcap'] = sickDf['Handcap'].mask(df['Handcap']>1,1)\n",
    "sickDf[showedup].value_counts().plot(kind=\"bar\",figsize=(15,8));\n",
    "plt.title(\"Dependence Among Sicknesses\")\n",
    "plt.ylabel(\"Total People\");"
   ]
  },
  {
   "cell_type": "markdown",
   "metadata": {
    "pycharm": {
     "name": "#%% md\n"
    }
   },
   "source": [
    "##### From the above we see that we have more people who werent sick but still showed up.Thus validates our assumptions that there might be other factors other than sickness that influence whether a person will show up\n",
    "##### We also see that people with Hipertension alone have the highest turn up rate , followd by people with both Hipertension and Diabetes\n",
    "##### Handcap people have the lowest turn up rates ,this is shown by the last bars.Thier influence on turn up is almost insignificant.\n",
    "##### Now lets take a closer look at Hipertension and Diabetes"
   ]
  },
  {
   "cell_type": "code",
   "execution_count": null,
   "metadata": {
    "pycharm": {
     "name": "#%%\n"
    }
   },
   "outputs": [],
   "source": [
    "sickDf.Hipertension.value_counts() , sickDf.Hipertension[showedup].value_counts()"
   ]
  },
  {
   "cell_type": "code",
   "execution_count": null,
   "metadata": {
    "pycharm": {
     "name": "#%%\n"
    }
   },
   "outputs": [],
   "source": [
    "#Lets calculate % of people with Hipertension who showed up\n",
    "percentage(18029,21801)"
   ]
  },
  {
   "cell_type": "code",
   "execution_count": null,
   "metadata": {
    "pycharm": {
     "name": "#%%\n"
    }
   },
   "outputs": [],
   "source": [
    "#Lets look at the proportion of people with Diabetes and Hipertension who showed up or didnt\n",
    "sickDf.Diabetes.value_counts(),  sickDf.Diabetes[showedup].value_counts()"
   ]
  },
  {
   "cell_type": "code",
   "execution_count": null,
   "metadata": {
    "pycharm": {
     "name": "#%%\n"
    }
   },
   "outputs": [],
   "source": [
    "# percentage of people with diabetes who showed up\n",
    "percentage(6513,7943)"
   ]
  },
  {
   "cell_type": "markdown",
   "metadata": {
    "pycharm": {
     "name": "#%% md\n"
    }
   },
   "source": [
    "##### Thus we see that these people have very high appointment turn up rates ie approx  82%, we have a 0.82 probability that every person with these sicknesses will show up"
   ]
  },
  {
   "cell_type": "markdown",
   "metadata": {
    "pycharm": {
     "name": "#%% md\n"
    }
   },
   "source": [
    "### Research Question 2  : How else does attributes independent of a person's condition affect thier probability to show up? The attributes are Age, Gender and SMS Recieved"
   ]
  },
  {
   "cell_type": "code",
   "execution_count": null,
   "metadata": {
    "pycharm": {
     "name": "#%%\n"
    }
   },
   "outputs": [],
   "source": [
    "#Lets take a quick scan of our dataset again\n",
    "otherDf.head()"
   ]
  },
  {
   "cell_type": "code",
   "execution_count": null,
   "metadata": {
    "pycharm": {
     "name": "#%%\n"
    }
   },
   "outputs": [],
   "source": [
    "otherDf.hist();\n",
    "#A general overview shows that we have more people who werent encouraged to come ie by having welfare or getting\n",
    "# an sms.Now lets look at how this affected the turn up rates"
   ]
  },
  {
   "cell_type": "code",
   "execution_count": null,
   "metadata": {
    "pycharm": {
     "name": "#%%\n"
    }
   },
   "outputs": [],
   "source": [
    "otherDf.Scholarship[showedup].value_counts().plot(kind='bar', label=\"showedUp\");\n",
    "plt.title(\"Turn Up Vs Scholarship\")\n",
    "plt.xlabel(\"Scholarship Status\");\n",
    "plt.ylabel(\"Total People\");\n",
    "#From this we see that very few people with scholarship showed up ,so the incentive does major  impact turn up rate"
   ]
  },
  {
   "cell_type": "code",
   "execution_count": null,
   "metadata": {
    "pycharm": {
     "name": "#%%\n"
    }
   },
   "outputs": [],
   "source": [
    "otherDf.SMS_received[showedup].value_counts().plot(kind='bar', label=\"showedUp\");\n",
    "plt.title(\"Turn Up Vs SMS_received\")\n",
    "plt.xlabel(\"SMS Recieved \");\n",
    "plt.ylabel(\"Total People\");"
   ]
  },
  {
   "cell_type": "markdown",
   "metadata": {
    "pycharm": {
     "name": "#%% md\n"
    }
   },
   "source": [
    "##### Although few people recived SMS , there seems to be a  signficantly higher turn out to those who recieved.Thus this incentive proves to have been a little more effective than scholarship"
   ]
  },
  {
   "cell_type": "code",
   "execution_count": null,
   "metadata": {
    "pycharm": {
     "name": "#%%\n"
    }
   },
   "outputs": [],
   "source": [
    "df.Age[showedup].hist( alpha=0.5, bins=20 ,color=\"yellow\", label=\"Showedup\")\n",
    "df.Age[missed].hist(alpha=0.5, bins=20 ,color=\"red\", label=\"Missed\");\n",
    "plt.title(\"Turn Up Across Ages\")\n",
    "plt.xlabel(\"Age\")\n",
    "plt.ylabel(\"Total People\")\n",
    "plt.legend();\n"
   ]
  },
  {
   "cell_type": "markdown",
   "metadata": {
    "pycharm": {
     "name": "#%% md\n"
    }
   },
   "source": [
    "##### From the above  we can see that children under one year have the highest appointment turnup rates and people in thier mid twenties have the lowest turn up artes.People in thier seventies have a high turn out rate."
   ]
  },
  {
   "cell_type": "code",
   "execution_count": null,
   "metadata": {
    "pycharm": {
     "name": "#%%\n"
    }
   },
   "outputs": [],
   "source": [
    "otherDf.Gender[showedup].value_counts().plot(kind=\"bar\");\n",
    "plt.title(\"Turn Up By Gender\")\n",
    "plt.xlabel(\"Gender\")\n",
    "plt.ylabel(\"Total People\");"
   ]
  },
  {
   "cell_type": "markdown",
   "metadata": {
    "pycharm": {
     "name": "#%% md\n"
    }
   },
   "source": [
    "###### Because we might have more of one gender, our previous methodoy will not yield correct results if applied here So we first look at the structure of the data in regard to turn up and not.Then we look at the % of each gender  that turns up rather than the number.This will give us a more accurate picture of which gender is likely to turn up"
   ]
  },
  {
   "cell_type": "code",
   "execution_count": null,
   "metadata": {
    "pycharm": {
     "name": "#%%\n"
    }
   },
   "outputs": [],
   "source": [
    "df.groupby(\"Showedup\")['Gender'].value_counts().plot(kind=\"bar\",color=\"green\",ylabel=\"Total\");\n"
   ]
  },
  {
   "cell_type": "code",
   "execution_count": null,
   "metadata": {
    "pycharm": {
     "name": "#%%\n"
    }
   },
   "outputs": [],
   "source": [
    "#How  many of each gender do we have?\n",
    "otherDf.Gender.value_counts()"
   ]
  },
  {
   "cell_type": "code",
   "execution_count": null,
   "metadata": {
    "pycharm": {
     "name": "#%%\n"
    }
   },
   "outputs": [],
   "source": [
    "#How many of each gender showed up\n",
    "otherDf.Gender[showedup].value_counts()"
   ]
  },
  {
   "cell_type": "code",
   "execution_count": null,
   "metadata": {
    "pycharm": {
     "name": "#%%\n"
    }
   },
   "outputs": [],
   "source": [
    "#What percenatge of males showed up?\n",
    "maleR = percentage(30962,38687)\n",
    "maleR"
   ]
  },
  {
   "cell_type": "code",
   "execution_count": null,
   "metadata": {
    "pycharm": {
     "name": "#%%\n"
    }
   },
   "outputs": [],
   "source": [
    "#What percentage of females showed up\n",
    "femaleR = percentage(57246,71840)\n",
    "femaleR"
   ]
  },
  {
   "cell_type": "markdown",
   "metadata": {
    "pycharm": {
     "name": "#%% md\n"
    }
   },
   "source": [
    "##### From the above we se that gender doesnt have any impact on turnout rate since the % in each gender are relatively the same ie 80% and 80%  for both to 1 dp"
   ]
  },
  {
   "cell_type": "code",
   "execution_count": null,
   "metadata": {
    "pycharm": {
     "name": "#%%\n"
    }
   },
   "outputs": [],
   "source": [
    "#On a final note,lets also look at the percentage of people who showed up overal\n",
    "df.Showedup.value_counts()"
   ]
  },
  {
   "cell_type": "code",
   "execution_count": null,
   "metadata": {
    "pycharm": {
     "name": "#%%\n"
    }
   },
   "outputs": [],
   "source": [
    "percentage(88208,110257)"
   ]
  },
  {
   "cell_type": "markdown",
   "metadata": {
    "pycharm": {
     "name": "#%% md\n"
    }
   },
   "source": [
    "###### From with, 80% of the people showed up, thats a very good sign.This can also be derived from our very first histogram"
   ]
  },
  {
   "cell_type": "markdown",
   "metadata": {
    "pycharm": {
     "name": "#%% md\n"
    }
   },
   "source": [
    "# Conclusions"
   ]
  },
  {
   "cell_type": "markdown",
   "metadata": {
    "pycharm": {
     "name": "#%% md\n"
    }
   },
   "source": [
    "From our analysis we looked at the factors that influence a person turnup probability.We looked at the influence of objective factors like sickness  then other incentives that might complement and influence a persons turn up.\n",
    "We found that people with high risk illnesses are more likely to turn up than the rest.These sicknesses are Hipertension and Dibetes.This is very true because failure to come for check up or to get treatment might be fatal so these people have to show up.\n",
    "Age is also another great contributor, and we see that vulnerable people(very young babies or very old people) are more likely to show up than the rest of the population.\n",
    "We however noticed that irregardless of sicknesss there were other factors that contributed.And from our analysis, sending people reminder SMS  was more effective and resuted in more people turning up for thier appoinitments.\n",
    "Although,we might have expected that people with Scholarship might turn up more, they actaully turn up less.This might be because they dont bear the responsibility of paying and might not take appointments as serious because they can always book anytime without having to worry about getting money for the appointment\n",
    "## So the main factors influencing whether or not a person will show up are : Type of Sickness, Age and whether they recieved SMS\n",
    "\n",
    "###### Recommendations : The hospital should send more messages to remind people of thier appointments.More analysis can be directed towards why some people didnt recieve messages and what can be done about that\n"
   ]
  },
  {
   "cell_type": "markdown",
   "metadata": {
    "pycharm": {
     "name": "#%% md\n"
    }
   },
   "source": [
    "#### Limitations"
   ]
  },
  {
   "cell_type": "markdown",
   "metadata": {
    "pycharm": {
     "name": "#%% md\n"
    }
   },
   "source": [
    "###### Our data didnt give us any background of the demographics of the different neighborhoods.If we had this, there was room to analyse the impact of neighborhood on turn up  and therefore would have been an important insight  because it highlights economic status which is also an important factor to consider.Usually same neighbourhoods would share similar attitudes towards our dependant variable."
   ]
  },
  {
   "cell_type": "code",
   "execution_count": null,
   "metadata": {
    "pycharm": {
     "name": "#%%\n"
    }
   },
   "outputs": [],
   "source": []
  }
 ],
 "metadata": {
  "kernelspec": {
   "display_name": "Python 3",
   "language": "python",
   "name": "python3"
  },
  "language_info": {
   "codemirror_mode": {
    "name": "ipython",
    "version": 3
   },
   "file_extension": ".py",
   "mimetype": "text/x-python",
   "name": "python",
   "nbconvert_exporter": "python",
   "pygments_lexer": "ipython3",
   "version": "3.8.5"
  }
 },
 "nbformat": 4,
 "nbformat_minor": 1
}